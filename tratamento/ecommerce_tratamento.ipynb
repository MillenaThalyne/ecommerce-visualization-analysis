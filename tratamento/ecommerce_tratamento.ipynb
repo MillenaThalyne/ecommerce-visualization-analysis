{
 "cells": [
  {
   "cell_type": "markdown",
   "metadata": {},
   "source": [
    "# Análise de Visualização de Comércio Eletrônico (Ecommerce)\n",
    "- Para essa primeira etapa do projeto, irei realizar o tratamento dos dados focado em: Remoção de algumas colunas, tratamento de tipos, tratamento de nulos e tratamento de duplicados. Em cada etapa do processo, irei detalhar melhor as abordagens que tomei e o porquê;\n",
    "- Qualquer sugestão para melhoria de qualquer parte desse projeto, pode entrar em contato comigo pelo LinkedIn ou email (link no perfil)."
   ]
  },
  {
   "cell_type": "markdown",
   "metadata": {},
   "source": [
    "## 1.0 Bibliotecas e Leitura de Dados 📋"
   ]
  },
  {
   "cell_type": "code",
   "execution_count": 1,
   "metadata": {},
   "outputs": [],
   "source": [
    "# Bibliotecas Utilizadas\n",
    "import pandas as pd\n",
    "import numpy as nd\n",
    "import matplotlib.pyplot as plt\n",
    "import seaborn as sns"
   ]
  },
  {
   "cell_type": "code",
   "execution_count": 2,
   "metadata": {},
   "outputs": [
    {
     "data": {
      "text/html": [
       "<div>\n",
       "<style scoped>\n",
       "    .dataframe tbody tr th:only-of-type {\n",
       "        vertical-align: middle;\n",
       "    }\n",
       "\n",
       "    .dataframe tbody tr th {\n",
       "        vertical-align: top;\n",
       "    }\n",
       "\n",
       "    .dataframe thead th {\n",
       "        text-align: right;\n",
       "    }\n",
       "</style>\n",
       "<table border=\"1\" class=\"dataframe\">\n",
       "  <thead>\n",
       "    <tr style=\"text-align: right;\">\n",
       "      <th></th>\n",
       "      <th>Unnamed: 0</th>\n",
       "      <th>Título</th>\n",
       "      <th>Nota</th>\n",
       "      <th>N_Avaliações</th>\n",
       "      <th>Desconto</th>\n",
       "      <th>Marca</th>\n",
       "      <th>Material</th>\n",
       "      <th>Gênero</th>\n",
       "      <th>Temporada</th>\n",
       "      <th>Review1</th>\n",
       "      <th>...</th>\n",
       "      <th>Nota_MinMax</th>\n",
       "      <th>N_Avaliações_MinMax</th>\n",
       "      <th>Desconto_MinMax</th>\n",
       "      <th>Preço_MinMax</th>\n",
       "      <th>Marca_Cod</th>\n",
       "      <th>Material_Cod</th>\n",
       "      <th>Temporada_Cod</th>\n",
       "      <th>Qtd_Vendidos_Cod</th>\n",
       "      <th>Marca_Freq</th>\n",
       "      <th>Material_Freq</th>\n",
       "    </tr>\n",
       "  </thead>\n",
       "  <tbody>\n",
       "    <tr>\n",
       "      <th>0</th>\n",
       "      <td>0</td>\n",
       "      <td>Pijama Cirurgico  Scrub Roupa Privativa Hospit...</td>\n",
       "      <td>4.0</td>\n",
       "      <td>273.0</td>\n",
       "      <td>NaN</td>\n",
       "      <td>toronto uniformes profissionais</td>\n",
       "      <td>poliéster</td>\n",
       "      <td>Sem gênero</td>\n",
       "      <td>não definido</td>\n",
       "      <td>Preço justo , bem feito acabamento ok. Única s...</td>\n",
       "      <td>...</td>\n",
       "      <td>0.629630</td>\n",
       "      <td>0.029969</td>\n",
       "      <td>NaN</td>\n",
       "      <td>0.100645</td>\n",
       "      <td>781</td>\n",
       "      <td>122</td>\n",
       "      <td>1</td>\n",
       "      <td>1000.0</td>\n",
       "      <td>0.002274</td>\n",
       "      <td>0.117326</td>\n",
       "    </tr>\n",
       "    <tr>\n",
       "      <th>1</th>\n",
       "      <td>1</td>\n",
       "      <td>Kit 10 Cuecas Boxer Lupo Cueca Box Algodão Mas...</td>\n",
       "      <td>4.5</td>\n",
       "      <td>3034.0</td>\n",
       "      <td>18.0</td>\n",
       "      <td>lupo</td>\n",
       "      <td>algodão</td>\n",
       "      <td>Masculino</td>\n",
       "      <td>outono/inverno</td>\n",
       "      <td>As cuecas são boas; porém você percebe na cost...</td>\n",
       "      <td>...</td>\n",
       "      <td>0.814815</td>\n",
       "      <td>0.334178</td>\n",
       "      <td>0.213115</td>\n",
       "      <td>0.378585</td>\n",
       "      <td>463</td>\n",
       "      <td>25</td>\n",
       "      <td>3</td>\n",
       "      <td>10000.0</td>\n",
       "      <td>0.042292</td>\n",
       "      <td>0.176444</td>\n",
       "    </tr>\n",
       "    <tr>\n",
       "      <th>2</th>\n",
       "      <td>2</td>\n",
       "      <td>Kit Com 10 Cuecas Boxer Algodão Sem Costura Zo...</td>\n",
       "      <td>4.7</td>\n",
       "      <td>5682.0</td>\n",
       "      <td>20.0</td>\n",
       "      <td>zorba</td>\n",
       "      <td>algodão</td>\n",
       "      <td>Masculino</td>\n",
       "      <td>não definido</td>\n",
       "      <td>O tecido é bom e são confortáveis. Só que a nu...</td>\n",
       "      <td>...</td>\n",
       "      <td>0.888889</td>\n",
       "      <td>0.625937</td>\n",
       "      <td>0.245902</td>\n",
       "      <td>0.322329</td>\n",
       "      <td>838</td>\n",
       "      <td>25</td>\n",
       "      <td>1</td>\n",
       "      <td>50000.0</td>\n",
       "      <td>0.009095</td>\n",
       "      <td>0.176444</td>\n",
       "    </tr>\n",
       "    <tr>\n",
       "      <th>3</th>\n",
       "      <td>3</td>\n",
       "      <td>Kit 10 Cuecas Boxer Mash Algodão Cotton Box Or...</td>\n",
       "      <td>4.6</td>\n",
       "      <td>1700.0</td>\n",
       "      <td>22.0</td>\n",
       "      <td>mash</td>\n",
       "      <td>algodão</td>\n",
       "      <td>Masculino</td>\n",
       "      <td>primavera/verão</td>\n",
       "      <td>As cuecas são boas, porém meu marido usa g e p...</td>\n",
       "      <td>...</td>\n",
       "      <td>0.851852</td>\n",
       "      <td>0.187197</td>\n",
       "      <td>0.278689</td>\n",
       "      <td>0.372617</td>\n",
       "      <td>494</td>\n",
       "      <td>25</td>\n",
       "      <td>7</td>\n",
       "      <td>10000.0</td>\n",
       "      <td>0.010914</td>\n",
       "      <td>0.176444</td>\n",
       "    </tr>\n",
       "    <tr>\n",
       "      <th>4</th>\n",
       "      <td>4</td>\n",
       "      <td>Kit 3 Short Jeans Feminino Cintura Alta Barato...</td>\n",
       "      <td>4.4</td>\n",
       "      <td>507.0</td>\n",
       "      <td>9.0</td>\n",
       "      <td>menina linda</td>\n",
       "      <td>jean</td>\n",
       "      <td>Feminino</td>\n",
       "      <td>primavera/verão</td>\n",
       "      <td>Estou encantada com essas peças!.\\nOs shorts s...</td>\n",
       "      <td>...</td>\n",
       "      <td>0.777778</td>\n",
       "      <td>0.055751</td>\n",
       "      <td>0.065574</td>\n",
       "      <td>0.201767</td>\n",
       "      <td>509</td>\n",
       "      <td>74</td>\n",
       "      <td>7</td>\n",
       "      <td>1000.0</td>\n",
       "      <td>0.010005</td>\n",
       "      <td>0.025466</td>\n",
       "    </tr>\n",
       "  </tbody>\n",
       "</table>\n",
       "<p>5 rows × 24 columns</p>\n",
       "</div>"
      ],
      "text/plain": [
       "   Unnamed: 0                                             Título  Nota  \\\n",
       "0           0  Pijama Cirurgico  Scrub Roupa Privativa Hospit...   4.0   \n",
       "1           1  Kit 10 Cuecas Boxer Lupo Cueca Box Algodão Mas...   4.5   \n",
       "2           2  Kit Com 10 Cuecas Boxer Algodão Sem Costura Zo...   4.7   \n",
       "3           3  Kit 10 Cuecas Boxer Mash Algodão Cotton Box Or...   4.6   \n",
       "4           4  Kit 3 Short Jeans Feminino Cintura Alta Barato...   4.4   \n",
       "\n",
       "   N_Avaliações  Desconto                            Marca   Material  \\\n",
       "0         273.0       NaN  toronto uniformes profissionais  poliéster   \n",
       "1        3034.0      18.0                             lupo    algodão   \n",
       "2        5682.0      20.0                            zorba    algodão   \n",
       "3        1700.0      22.0                             mash    algodão   \n",
       "4         507.0       9.0                     menina linda       jean   \n",
       "\n",
       "       Gênero        Temporada  \\\n",
       "0  Sem gênero     não definido   \n",
       "1   Masculino   outono/inverno   \n",
       "2   Masculino     não definido   \n",
       "3   Masculino  primavera/verão   \n",
       "4    Feminino  primavera/verão   \n",
       "\n",
       "                                             Review1  ... Nota_MinMax  \\\n",
       "0  Preço justo , bem feito acabamento ok. Única s...  ...    0.629630   \n",
       "1  As cuecas são boas; porém você percebe na cost...  ...    0.814815   \n",
       "2  O tecido é bom e são confortáveis. Só que a nu...  ...    0.888889   \n",
       "3  As cuecas são boas, porém meu marido usa g e p...  ...    0.851852   \n",
       "4  Estou encantada com essas peças!.\\nOs shorts s...  ...    0.777778   \n",
       "\n",
       "  N_Avaliações_MinMax Desconto_MinMax  Preço_MinMax  Marca_Cod  Material_Cod  \\\n",
       "0            0.029969             NaN      0.100645        781           122   \n",
       "1            0.334178        0.213115      0.378585        463            25   \n",
       "2            0.625937        0.245902      0.322329        838            25   \n",
       "3            0.187197        0.278689      0.372617        494            25   \n",
       "4            0.055751        0.065574      0.201767        509            74   \n",
       "\n",
       "   Temporada_Cod  Qtd_Vendidos_Cod  Marca_Freq  Material_Freq  \n",
       "0              1            1000.0    0.002274       0.117326  \n",
       "1              3           10000.0    0.042292       0.176444  \n",
       "2              1           50000.0    0.009095       0.176444  \n",
       "3              7           10000.0    0.010914       0.176444  \n",
       "4              7            1000.0    0.010005       0.025466  \n",
       "\n",
       "[5 rows x 24 columns]"
      ]
     },
     "execution_count": 2,
     "metadata": {},
     "output_type": "execute_result"
    }
   ],
   "source": [
    "# Leitura e visualização dos dados originais\n",
    "path = 'ecommerce_original.csv'\n",
    "df = pd.read_csv(path)\n",
    "df.head()"
   ]
  },
  {
   "cell_type": "markdown",
   "metadata": {},
   "source": [
    "## 2.0 Tratamento de Dados 🎲"
   ]
  },
  {
   "cell_type": "markdown",
   "metadata": {},
   "source": [
    "### 2.1 Remoção de Colunas\n",
    "- Nessa parte do projeto, eu fiz uma primeira verificação dos nomes das colunas dos dados e reparei que existiam colunas com tratamento de escala MinMax, onde, dando uma olhada nos seus dados únicos, percebi que eles eram completamente diferentes dos dados originais;\n",
    "- Além disso, notei que existia uma coluna de índice desnecessária, pois o Pandas cria, assim que lê seus arquivos, uma coluna exatamente igual a essa;\n",
    "- Por conta desses pontos, decidi por excluir essas tais colunas para posteriormente realizar esse tipo de ajuste na etapa de preparação de dados. Essa remoção foi relacionada ao DataFrame ‘df_eco’ para distinção do original."
   ]
  },
  {
   "cell_type": "code",
   "execution_count": 3,
   "metadata": {},
   "outputs": [
    {
     "name": "stdout",
     "output_type": "stream",
     "text": [
      "['Unnamed: 0', 'Título', 'Nota', 'N_Avaliações', 'Desconto', 'Marca', 'Material', 'Gênero', 'Temporada', 'Review1', 'Review2', 'Review3', 'Qtd_Vendidos', 'Preço', 'Nota_MinMax', 'N_Avaliações_MinMax', 'Desconto_MinMax', 'Preço_MinMax', 'Marca_Cod', 'Material_Cod', 'Temporada_Cod', 'Qtd_Vendidos_Cod', 'Marca_Freq', 'Material_Freq']\n"
     ]
    }
   ],
   "source": [
    "# Visualização das colunas existentes nos dados originais\n",
    "print(df.columns.to_list())"
   ]
  },
  {
   "cell_type": "code",
   "execution_count": 4,
   "metadata": {},
   "outputs": [],
   "source": [
    "# Removendo as colunas com MinMax Scaler e armazenando num novo DataFrame 'df_eco'\n",
    "df_eco = df.drop(columns=['Unnamed: 0', 'Nota_MinMax', 'N_Avaliações_MinMax', 'Desconto_MinMax', 'Preço_MinMax', 'Qtd_Vendidos_Cod'])"
   ]
  },
  {
   "cell_type": "code",
   "execution_count": 5,
   "metadata": {},
   "outputs": [
    {
     "data": {
      "text/html": [
       "<div>\n",
       "<style scoped>\n",
       "    .dataframe tbody tr th:only-of-type {\n",
       "        vertical-align: middle;\n",
       "    }\n",
       "\n",
       "    .dataframe tbody tr th {\n",
       "        vertical-align: top;\n",
       "    }\n",
       "\n",
       "    .dataframe thead th {\n",
       "        text-align: right;\n",
       "    }\n",
       "</style>\n",
       "<table border=\"1\" class=\"dataframe\">\n",
       "  <thead>\n",
       "    <tr style=\"text-align: right;\">\n",
       "      <th></th>\n",
       "      <th>Título</th>\n",
       "      <th>Nota</th>\n",
       "      <th>N_Avaliações</th>\n",
       "      <th>Desconto</th>\n",
       "      <th>Marca</th>\n",
       "      <th>Material</th>\n",
       "      <th>Gênero</th>\n",
       "      <th>Temporada</th>\n",
       "      <th>Review1</th>\n",
       "      <th>Review2</th>\n",
       "      <th>Review3</th>\n",
       "      <th>Qtd_Vendidos</th>\n",
       "      <th>Preço</th>\n",
       "      <th>Marca_Cod</th>\n",
       "      <th>Material_Cod</th>\n",
       "      <th>Temporada_Cod</th>\n",
       "      <th>Marca_Freq</th>\n",
       "      <th>Material_Freq</th>\n",
       "    </tr>\n",
       "  </thead>\n",
       "  <tbody>\n",
       "    <tr>\n",
       "      <th>0</th>\n",
       "      <td>Pijama Cirurgico  Scrub Roupa Privativa Hospit...</td>\n",
       "      <td>4.0</td>\n",
       "      <td>273.0</td>\n",
       "      <td>NaN</td>\n",
       "      <td>toronto uniformes profissionais</td>\n",
       "      <td>poliéster</td>\n",
       "      <td>Sem gênero</td>\n",
       "      <td>não definido</td>\n",
       "      <td>Preço justo , bem feito acabamento ok. Única s...</td>\n",
       "      <td>Tamanho bom, costuras de qualidade, porém teci...</td>\n",
       "      <td>Muito bom, só poderia ter os cortes na lateral...</td>\n",
       "      <td>+1000</td>\n",
       "      <td>69.90</td>\n",
       "      <td>781</td>\n",
       "      <td>122</td>\n",
       "      <td>1</td>\n",
       "      <td>0.002274</td>\n",
       "      <td>0.117326</td>\n",
       "    </tr>\n",
       "    <tr>\n",
       "      <th>1</th>\n",
       "      <td>Kit 10 Cuecas Boxer Lupo Cueca Box Algodão Mas...</td>\n",
       "      <td>4.5</td>\n",
       "      <td>3034.0</td>\n",
       "      <td>18.0</td>\n",
       "      <td>lupo</td>\n",
       "      <td>algodão</td>\n",
       "      <td>Masculino</td>\n",
       "      <td>outono/inverno</td>\n",
       "      <td>As cuecas são boas; porém você percebe na cost...</td>\n",
       "      <td>Pelo preço promocional, com ctz tem algum defe...</td>\n",
       "      <td>Serviram muito bem, porém é nítido que o pano ...</td>\n",
       "      <td>+10mil</td>\n",
       "      <td>232.89</td>\n",
       "      <td>463</td>\n",
       "      <td>25</td>\n",
       "      <td>3</td>\n",
       "      <td>0.042292</td>\n",
       "      <td>0.176444</td>\n",
       "    </tr>\n",
       "  </tbody>\n",
       "</table>\n",
       "</div>"
      ],
      "text/plain": [
       "                                              Título  Nota  N_Avaliações  \\\n",
       "0  Pijama Cirurgico  Scrub Roupa Privativa Hospit...   4.0         273.0   \n",
       "1  Kit 10 Cuecas Boxer Lupo Cueca Box Algodão Mas...   4.5        3034.0   \n",
       "\n",
       "   Desconto                            Marca   Material      Gênero  \\\n",
       "0       NaN  toronto uniformes profissionais  poliéster  Sem gênero   \n",
       "1      18.0                             lupo    algodão   Masculino   \n",
       "\n",
       "        Temporada                                            Review1  \\\n",
       "0    não definido  Preço justo , bem feito acabamento ok. Única s...   \n",
       "1  outono/inverno  As cuecas são boas; porém você percebe na cost...   \n",
       "\n",
       "                                             Review2  \\\n",
       "0  Tamanho bom, costuras de qualidade, porém teci...   \n",
       "1  Pelo preço promocional, com ctz tem algum defe...   \n",
       "\n",
       "                                             Review3 Qtd_Vendidos   Preço  \\\n",
       "0  Muito bom, só poderia ter os cortes na lateral...        +1000   69.90   \n",
       "1  Serviram muito bem, porém é nítido que o pano ...       +10mil  232.89   \n",
       "\n",
       "   Marca_Cod  Material_Cod  Temporada_Cod  Marca_Freq  Material_Freq  \n",
       "0        781           122              1    0.002274       0.117326  \n",
       "1        463            25              3    0.042292       0.176444  "
      ]
     },
     "execution_count": 5,
     "metadata": {},
     "output_type": "execute_result"
    }
   ],
   "source": [
    "# Visualização do novo DataFrame 'df_eco'\n",
    "df_eco.head(2)"
   ]
  },
  {
   "cell_type": "markdown",
   "metadata": {},
   "source": [
    "### 2.2 Tratamento de Tipos"
   ]
  },
  {
   "cell_type": "code",
   "execution_count": 6,
   "metadata": {},
   "outputs": [
    {
     "name": "stdout",
     "output_type": "stream",
     "text": [
      "<class 'pandas.core.frame.DataFrame'>\n",
      "RangeIndex: 2199 entries, 0 to 2198\n",
      "Data columns (total 18 columns):\n",
      " #   Column         Non-Null Count  Dtype  \n",
      "---  ------         --------------  -----  \n",
      " 0   Título         2199 non-null   object \n",
      " 1   Nota           1559 non-null   float64\n",
      " 2   N_Avaliações   1559 non-null   float64\n",
      " 3   Desconto       874 non-null    float64\n",
      " 4   Marca          2199 non-null   object \n",
      " 5   Material       1332 non-null   object \n",
      " 6   Gênero         2120 non-null   object \n",
      " 7   Temporada      2199 non-null   object \n",
      " 8   Review1        1515 non-null   object \n",
      " 9   Review2        1354 non-null   object \n",
      " 10  Review3        1233 non-null   object \n",
      " 11  Qtd_Vendidos   2199 non-null   object \n",
      " 12  Preço          1964 non-null   float64\n",
      " 13  Marca_Cod      2199 non-null   int64  \n",
      " 14  Material_Cod   2199 non-null   int64  \n",
      " 15  Temporada_Cod  2199 non-null   int64  \n",
      " 16  Marca_Freq     2199 non-null   float64\n",
      " 17  Material_Freq  1332 non-null   float64\n",
      "dtypes: float64(6), int64(3), object(9)\n",
      "memory usage: 309.4+ KB\n"
     ]
    }
   ],
   "source": [
    "# Verificação dos tipos de cada coluna dos dados\n",
    "df_eco.info()"
   ]
  },
  {
   "cell_type": "markdown",
   "metadata": {},
   "source": [
    "#### 2.2.1 Tratamento da coluna 'Qtd_Vendidos'\n",
    "- Minha ideia de tratamento para essa coluna foi transformar em inteiro para poder fazer análises futuras;\n",
    "- Para isso, removi o '+', substitui 'mil' por '000' e 'Nenhum' por '0', para depois tranformá-los em inteiro; \n",
    "- Quando terminei meu trabalho, notei que já existia uma coluna com essas informações, a 'Qtd_Vendidos_Cod', porém com o tipo *float*. Dessa forma, decidi por excluir essa coluna lá cima também para deixar somente a que eu havia tratado."
   ]
  },
  {
   "cell_type": "code",
   "execution_count": 7,
   "metadata": {},
   "outputs": [
    {
     "data": {
      "text/plain": [
       "0       +1000\n",
       "1      +10mil\n",
       "2      +50mil\n",
       "5        +100\n",
       "7         +50\n",
       "8        +500\n",
       "14     Nenhum\n",
       "15          2\n",
       "20         +5\n",
       "30      +5mil\n",
       "32          3\n",
       "74        +25\n",
       "81          1\n",
       "194         4\n",
       "Name: Qtd_Vendidos, dtype: object"
      ]
     },
     "execution_count": 7,
     "metadata": {},
     "output_type": "execute_result"
    }
   ],
   "source": [
    "# Visualização de dados unicos de 'qtd_vendidos'\n",
    "df_eco['Qtd_Vendidos'].drop_duplicates()"
   ]
  },
  {
   "cell_type": "code",
   "execution_count": 8,
   "metadata": {},
   "outputs": [],
   "source": [
    "# Tratamento da coluna 'qtd_vendidos'\n",
    "df_eco['Qtd_Vendidos'] = df_eco['Qtd_Vendidos'].str.replace('+','').str.replace('mil','000').str.replace('Nenhum', '0').astype(int)"
   ]
  },
  {
   "cell_type": "code",
   "execution_count": 9,
   "metadata": {},
   "outputs": [
    {
     "data": {
      "text/plain": [
       "0       1000\n",
       "1      10000\n",
       "2      50000\n",
       "5        100\n",
       "7         50\n",
       "8        500\n",
       "14         0\n",
       "15         2\n",
       "20         5\n",
       "30      5000\n",
       "32         3\n",
       "74        25\n",
       "81         1\n",
       "194        4\n",
       "Name: Qtd_Vendidos, dtype: int64"
      ]
     },
     "execution_count": 9,
     "metadata": {},
     "output_type": "execute_result"
    }
   ],
   "source": [
    "# Verificação das substituições e transformação de tipo\n",
    "df_eco['Qtd_Vendidos'].drop_duplicates()"
   ]
  },
  {
   "cell_type": "markdown",
   "metadata": {},
   "source": [
    "### 2.3 Tratamento de Nulos\n",
    "- Logo de cara, vemos uma quantidade bem grande de dados nulos em diversas colunas, sendo sua maior quantidade presente no campo ‘Desconto’, com 1325 registros nulos;\n",
    "- Como cada um dos elementos tem sua importância, não posso simplesmente excluir tudo. Por isso, farei o tratamento de acordo com o contexto do campo. Por exemplo, em Desconto, faria sentido que os dados nulos presentes nele seja porque não houve desconto. Nesse caso, se o tipo dele é float, seria interessante substituir os dados nulos por 0.0, o que caracterizaria uma não inclusão de desconto naquela compra;\n",
    "- Cada campo terá seu tratamento específico, por isso, em cada etapa irei detalhar melhor a abordagem que tomei."
   ]
  },
  {
   "cell_type": "code",
   "execution_count": 10,
   "metadata": {},
   "outputs": [
    {
     "data": {
      "text/plain": [
       "Título              0\n",
       "Nota              640\n",
       "N_Avaliações      640\n",
       "Desconto         1325\n",
       "Marca               0\n",
       "Material          867\n",
       "Gênero             79\n",
       "Temporada           0\n",
       "Review1           684\n",
       "Review2           845\n",
       "Review3           966\n",
       "Qtd_Vendidos        0\n",
       "Preço             235\n",
       "Marca_Cod           0\n",
       "Material_Cod        0\n",
       "Temporada_Cod       0\n",
       "Marca_Freq          0\n",
       "Material_Freq     867\n",
       "dtype: int64"
      ]
     },
     "execution_count": 10,
     "metadata": {},
     "output_type": "execute_result"
    }
   ],
   "source": [
    "# Quantidade de Nulos do DataFrame\n",
    "df_eco.isna().sum()"
   ]
  },
  {
   "cell_type": "code",
   "execution_count": 11,
   "metadata": {},
   "outputs": [
    {
     "name": "stdout",
     "output_type": "stream",
     "text": [
      "Porcentagem de nulos totais:\n",
      "Título            0.000000\n",
      "Nota             29.104138\n",
      "N_Avaliações     29.104138\n",
      "Desconto         60.254661\n",
      "Marca             0.000000\n",
      "Material         39.427012\n",
      "Gênero            3.592542\n",
      "Temporada         0.000000\n",
      "Review1          31.105048\n",
      "Review2          38.426558\n",
      "Review3          43.929059\n",
      "Qtd_Vendidos      0.000000\n",
      "Preço            10.686676\n",
      "Marca_Cod         0.000000\n",
      "Material_Cod      0.000000\n",
      "Temporada_Cod     0.000000\n",
      "Marca_Freq        0.000000\n",
      "Material_Freq    39.427012\n",
      "dtype: float64\n"
     ]
    }
   ],
   "source": [
    "# Quantidade de nulos do DataFrame em porcentagem:\n",
    "nulos_contagem = df_eco.isna().sum() # Conta o número de valores nulos em cada coluna\n",
    "\n",
    "total_registros = len(df_eco) # Calcula o total de registros no DataFrame\n",
    "\n",
    "porcentagem_nulos = (nulos_contagem / total_registros) * 100 # Calcula a porcentagem de valores nulos\n",
    "\n",
    "print('Porcentagem de nulos totais:\\n{}'.format(porcentagem_nulos)) # Exibe a porcentagem de valores nulos para cada coluna"
   ]
  },
  {
   "cell_type": "markdown",
   "metadata": {},
   "source": [
    "#### 2.3.1 Tratamento de 'Nota'\n",
    "- Meu primeiro pensamento ao ver dados nulos em notas é que poderia ser 0, mas não, isso seria dizer que as pessoas não gostaram nem um pouco do produto e não sabemos nisso. Também pensei em preencher com a média, mas também seria impreciso, pois não temos como saber exatamente o porquê de não terem preenchido esse campo na hora da avaliação e, por isso, seria uma presunção;\n",
    "-  Por isso, a abordagem que pensei nesse caso seria preencher esses registros nulos pela mediana deles, pois excluí-los reduziria drasticamente nossos dados. Então, como esses dados são importantes, utilizar a mediana deles para suprir essa falta seria uma abordagem interessante, uma vez que a quantidade de registros totais já é bastante pequena e ainda teremos diversos tratamentos posteriores que o reduzirão ainda mais. "
   ]
  },
  {
   "cell_type": "code",
   "execution_count": 12,
   "metadata": {},
   "outputs": [],
   "source": [
    "# Tratamento de nulos na coluna 'Nota' pela mediana da Nota\n",
    "mediana = df_eco['Nota'].median()\n",
    "df_eco['Nota'] = df_eco['Nota'].fillna(mediana)"
   ]
  },
  {
   "cell_type": "markdown",
   "metadata": {},
   "source": [
    "#### 2.3.2 Tratamento de 'N_Avaliações'\n",
    "- Nesse caso, eu posso crer que quando não temos número de avaliações, quer dizer que ela é igual a 0, ou seja, não tem avaliações desse produto;\n",
    "- Então fica bem simples, pois pode-se somente substituir os valores nulos por 0 para informar isso."
   ]
  },
  {
   "cell_type": "code",
   "execution_count": 13,
   "metadata": {},
   "outputs": [],
   "source": [
    "# Tratamento de nulos na coluna 'n_avaliações' para 0\n",
    "df_eco['N_Avaliações'] = df_eco['N_Avaliações'].fillna(0)"
   ]
  },
  {
   "cell_type": "markdown",
   "metadata": {},
   "source": [
    "#### 2.3.3 Tratamento de Desconto\n",
    "- Como falei anteriormente, a ausência de registro nesse campo significaria que não houve desconto, ou seja, desconto = 0."
   ]
  },
  {
   "cell_type": "code",
   "execution_count": 14,
   "metadata": {},
   "outputs": [],
   "source": [
    "# Tratamento de nulos na coluna 'Desconto' para 0\n",
    "df_eco['Desconto'] = df_eco['Desconto'].fillna(0)"
   ]
  },
  {
   "cell_type": "markdown",
   "metadata": {},
   "source": [
    "#### 2.3.4 Tratamento de 'Material'\n",
    "- Antes de verificar qual a melhor abordagem para os registros nulos nesse campo, eu verifiquei do que ele se trata, sendo a categoria do material daquele produto. Com isso, acredito que a ausência de um material seria, então, desconhecido ou indeterminado."
   ]
  },
  {
   "cell_type": "code",
   "execution_count": 15,
   "metadata": {},
   "outputs": [
    {
     "data": {
      "text/plain": [
       "0                              poliéster\n",
       "1                                algodão\n",
       "4                                   jean\n",
       "5                        termico unissex\n",
       "6                       algodao/elastano\n",
       "                      ...               \n",
       "2116                 50% algodão 50% pet\n",
       "2163           roupa balada festas noite\n",
       "2172    jeans poliéster algodão elastano\n",
       "2179           95% algodão e 5% elastano\n",
       "2188                 algodão e poliéster\n",
       "Name: Material, Length: 179, dtype: object"
      ]
     },
     "execution_count": 15,
     "metadata": {},
     "output_type": "execute_result"
    }
   ],
   "source": [
    "df_eco['Material'].drop_duplicates()"
   ]
  },
  {
   "cell_type": "code",
   "execution_count": 16,
   "metadata": {},
   "outputs": [],
   "source": [
    "# Tratamento de nulos na coluna 'Material' para 'Inteterminado'\n",
    "df_eco['Material'] = df_eco['Material'].fillna('Indeterminado')"
   ]
  },
  {
   "cell_type": "markdown",
   "metadata": {},
   "source": [
    "#### 2.3.5 Tratamento de 'Gênero'\n",
    "- Primeiro verifiquei qual os registros únicos e notei que existia uma categoria ‘Sem gênero’ que se encaixaria nesse contexto. Por isso, fiz o tratamento de nulos substituindo para essa categoria porque esse campo possui uma porcentagem bem baixa de registros nulos (4%) e fazendo isso, não influenciaria tanto, afinal, se não tem registro de gênero, muito provavelmente ele não é necessário para aquele contexto."
   ]
  },
  {
   "cell_type": "code",
   "execution_count": 17,
   "metadata": {},
   "outputs": [
    {
     "data": {
      "text/plain": [
       "0                              Sem gênero\n",
       "1                               Masculino\n",
       "4                                Feminino\n",
       "5                     Sem gênero infantil\n",
       "10                                Meninas\n",
       "12                                  Bebês\n",
       "23                                Meninos\n",
       "26                                    NaN\n",
       "753                               Unissex\n",
       "765        short menina verao look mulher\n",
       "783                                Mulher\n",
       "935     roupa para gordinha pluss P ao 52\n",
       "1137                               menino\n",
       "2163    bermuda feminina brilho Blogueira\n",
       "Name: Gênero, dtype: object"
      ]
     },
     "execution_count": 17,
     "metadata": {},
     "output_type": "execute_result"
    }
   ],
   "source": [
    "df_eco['Gênero'].drop_duplicates()"
   ]
  },
  {
   "cell_type": "code",
   "execution_count": 18,
   "metadata": {},
   "outputs": [],
   "source": [
    "# Tratamento de nulos na coluna 'Gênero' para 'Sem gênero'\n",
    "df_eco['Gênero'] = df_eco['Gênero'].fillna('Sem gênero')"
   ]
  },
  {
   "cell_type": "markdown",
   "metadata": {},
   "source": [
    "### 2.3.6 Tratamento de 'Reviews'\n",
    "- Pegando a lógica de Gênero, se não existe registro de review, quer dizer que o cliente não deixou um comentário. Por isso, podemos substituir essa ausência por ‘Sem comentários’, por exemplo."
   ]
  },
  {
   "cell_type": "code",
   "execution_count": 19,
   "metadata": {},
   "outputs": [],
   "source": [
    "# Tratamento de nulos na coluna 'Review1' para 'Sem comentários'\n",
    "df_eco['Review1'] = df_eco['Review1'].fillna('Sem comentários')\n",
    "df_eco['Review2'] = df_eco['Review2'].fillna('Sem comentários')\n",
    "df_eco['Review3'] = df_eco['Review3'].fillna('Sem comentários')"
   ]
  },
  {
   "cell_type": "markdown",
   "metadata": {},
   "source": [
    "#### 2.3.7 Tratamento de 'Preço'\n",
    "- Esse tratamento vai ser o mais complicado, pois todos os produtos deveriam ter preço. Então, se não tem preço, o que aconteceu? Provavelmente foi erro de extração, mas não podemos colocar ‘Não informado’ por exemplo, porque esse campo é do tipo *float* e esse tratamento iria ir contra isso. Também não podemos fazer uma aproximação (usando alguma medida estatística) dele, pois iria ser provavelmente diferente do preço real e esse campo é muito importante. O que não seria o caso se fosse a idade (e não usaríamos esse campo pra análise, por exemplo), mas o preço será utilizado posteriormente, então provavelmente eu irei desconsiderar eles da minha análise;\n",
    "- E pensando sobre isso, se eu vou desconsiderar esses registros da minha análise, não seria melhor excluí-los? Bom, ele representa 11% dos dados, o que é mediano, mas, como falei, esses dados são importantes e insubstituíveis, portanto, é uma abordagem interessante (se tiver uma sugestão melhor, eu adoraria ouvir!)."
   ]
  },
  {
   "cell_type": "code",
   "execution_count": 20,
   "metadata": {},
   "outputs": [
    {
     "data": {
      "text/html": [
       "<div>\n",
       "<style scoped>\n",
       "    .dataframe tbody tr th:only-of-type {\n",
       "        vertical-align: middle;\n",
       "    }\n",
       "\n",
       "    .dataframe tbody tr th {\n",
       "        vertical-align: top;\n",
       "    }\n",
       "\n",
       "    .dataframe thead th {\n",
       "        text-align: right;\n",
       "    }\n",
       "</style>\n",
       "<table border=\"1\" class=\"dataframe\">\n",
       "  <thead>\n",
       "    <tr style=\"text-align: right;\">\n",
       "      <th></th>\n",
       "      <th>Título</th>\n",
       "      <th>Nota</th>\n",
       "      <th>N_Avaliações</th>\n",
       "      <th>Desconto</th>\n",
       "      <th>Marca</th>\n",
       "      <th>Material</th>\n",
       "      <th>Gênero</th>\n",
       "      <th>Temporada</th>\n",
       "      <th>Review1</th>\n",
       "      <th>Review2</th>\n",
       "      <th>Review3</th>\n",
       "      <th>Qtd_Vendidos</th>\n",
       "      <th>Preço</th>\n",
       "      <th>Marca_Cod</th>\n",
       "      <th>Material_Cod</th>\n",
       "      <th>Temporada_Cod</th>\n",
       "      <th>Marca_Freq</th>\n",
       "      <th>Material_Freq</th>\n",
       "    </tr>\n",
       "  </thead>\n",
       "  <tbody>\n",
       "    <tr>\n",
       "      <th>6</th>\n",
       "      <td>Calça Jeans Levis 511 Original Slim Fit Elastano</td>\n",
       "      <td>4.9</td>\n",
       "      <td>14.0</td>\n",
       "      <td>0.0</td>\n",
       "      <td>levi's</td>\n",
       "      <td>algodao/elastano</td>\n",
       "      <td>Masculino</td>\n",
       "      <td>outono/inverno</td>\n",
       "      <td>Excelente calça! melhor calça que já comprei!.</td>\n",
       "      <td>Ótimo produto, perfeito, tudo dentro do descri...</td>\n",
       "      <td>Linda, veste perfeitamente no corpo!.</td>\n",
       "      <td>100</td>\n",
       "      <td>NaN</td>\n",
       "      <td>436</td>\n",
       "      <td>24</td>\n",
       "      <td>3</td>\n",
       "      <td>0.009095</td>\n",
       "      <td>0.000910</td>\n",
       "    </tr>\n",
       "    <tr>\n",
       "      <th>8</th>\n",
       "      <td>Calça Levis Jeans Masculina Tradicional Elasta...</td>\n",
       "      <td>4.3</td>\n",
       "      <td>52.0</td>\n",
       "      <td>0.0</td>\n",
       "      <td>levi's</td>\n",
       "      <td>algodão e elastano</td>\n",
       "      <td>Masculino</td>\n",
       "      <td>outono/inverno</td>\n",
       "      <td>Etiquetas e adesivos condizem com uma legítima...</td>\n",
       "      <td>Caimento bom. As etiquetas e impressões na par...</td>\n",
       "      <td>Tenho duvidas se é original. Jeans muito fino....</td>\n",
       "      <td>500</td>\n",
       "      <td>NaN</td>\n",
       "      <td>436</td>\n",
       "      <td>31</td>\n",
       "      <td>3</td>\n",
       "      <td>0.009095</td>\n",
       "      <td>0.000910</td>\n",
       "    </tr>\n",
       "    <tr>\n",
       "      <th>13</th>\n",
       "      <td>Calça Levis Jeans Masculina Tradicional Elasta...</td>\n",
       "      <td>4.7</td>\n",
       "      <td>12.0</td>\n",
       "      <td>0.0</td>\n",
       "      <td>levi's</td>\n",
       "      <td>algodão e elastano</td>\n",
       "      <td>Masculino</td>\n",
       "      <td>outono/inverno</td>\n",
       "      <td>Produto de excelente qualidade e dentro das es...</td>\n",
       "      <td>Ótimo produto qualidade levi's.</td>\n",
       "      <td>Excelente!!.</td>\n",
       "      <td>50</td>\n",
       "      <td>NaN</td>\n",
       "      <td>436</td>\n",
       "      <td>31</td>\n",
       "      <td>3</td>\n",
       "      <td>0.009095</td>\n",
       "      <td>0.000910</td>\n",
       "    </tr>\n",
       "    <tr>\n",
       "      <th>15</th>\n",
       "      <td>Bermuda Camuflada Poly  Ripstop  6 Bolsos Safo...</td>\n",
       "      <td>4.6</td>\n",
       "      <td>0.0</td>\n",
       "      <td>0.0</td>\n",
       "      <td>safo</td>\n",
       "      <td>poly rip stop</td>\n",
       "      <td>Masculino</td>\n",
       "      <td>não definido</td>\n",
       "      <td>Sem comentários</td>\n",
       "      <td>Sem comentários</td>\n",
       "      <td>Sem comentários</td>\n",
       "      <td>2</td>\n",
       "      <td>NaN</td>\n",
       "      <td>685</td>\n",
       "      <td>128</td>\n",
       "      <td>1</td>\n",
       "      <td>0.002274</td>\n",
       "      <td>0.002274</td>\n",
       "    </tr>\n",
       "    <tr>\n",
       "      <th>58</th>\n",
       "      <td>Calça Jeans Levis 511 Original Slim Fit Elastano</td>\n",
       "      <td>5.0</td>\n",
       "      <td>3.0</td>\n",
       "      <td>0.0</td>\n",
       "      <td>levi's</td>\n",
       "      <td>algodao/elastano</td>\n",
       "      <td>Masculino</td>\n",
       "      <td>outono/inverno</td>\n",
       "      <td>Uns dos melhores produtos.</td>\n",
       "      <td>Sem comentários</td>\n",
       "      <td>Sem comentários</td>\n",
       "      <td>5</td>\n",
       "      <td>NaN</td>\n",
       "      <td>436</td>\n",
       "      <td>24</td>\n",
       "      <td>3</td>\n",
       "      <td>0.009095</td>\n",
       "      <td>0.000910</td>\n",
       "    </tr>\n",
       "  </tbody>\n",
       "</table>\n",
       "</div>"
      ],
      "text/plain": [
       "                                               Título  Nota  N_Avaliações  \\\n",
       "6    Calça Jeans Levis 511 Original Slim Fit Elastano   4.9          14.0   \n",
       "8   Calça Levis Jeans Masculina Tradicional Elasta...   4.3          52.0   \n",
       "13  Calça Levis Jeans Masculina Tradicional Elasta...   4.7          12.0   \n",
       "15  Bermuda Camuflada Poly  Ripstop  6 Bolsos Safo...   4.6           0.0   \n",
       "58   Calça Jeans Levis 511 Original Slim Fit Elastano   5.0           3.0   \n",
       "\n",
       "    Desconto   Marca            Material     Gênero       Temporada  \\\n",
       "6        0.0  levi's    algodao/elastano  Masculino  outono/inverno   \n",
       "8        0.0  levi's  algodão e elastano  Masculino  outono/inverno   \n",
       "13       0.0  levi's  algodão e elastano  Masculino  outono/inverno   \n",
       "15       0.0    safo       poly rip stop  Masculino    não definido   \n",
       "58       0.0  levi's    algodao/elastano  Masculino  outono/inverno   \n",
       "\n",
       "                                              Review1  \\\n",
       "6      Excelente calça! melhor calça que já comprei!.   \n",
       "8   Etiquetas e adesivos condizem com uma legítima...   \n",
       "13  Produto de excelente qualidade e dentro das es...   \n",
       "15                                    Sem comentários   \n",
       "58                         Uns dos melhores produtos.   \n",
       "\n",
       "                                              Review2  \\\n",
       "6   Ótimo produto, perfeito, tudo dentro do descri...   \n",
       "8   Caimento bom. As etiquetas e impressões na par...   \n",
       "13                    Ótimo produto qualidade levi's.   \n",
       "15                                    Sem comentários   \n",
       "58                                    Sem comentários   \n",
       "\n",
       "                                              Review3  Qtd_Vendidos  Preço  \\\n",
       "6               Linda, veste perfeitamente no corpo!.           100    NaN   \n",
       "8   Tenho duvidas se é original. Jeans muito fino....           500    NaN   \n",
       "13                                       Excelente!!.            50    NaN   \n",
       "15                                    Sem comentários             2    NaN   \n",
       "58                                    Sem comentários             5    NaN   \n",
       "\n",
       "    Marca_Cod  Material_Cod  Temporada_Cod  Marca_Freq  Material_Freq  \n",
       "6         436            24              3    0.009095       0.000910  \n",
       "8         436            31              3    0.009095       0.000910  \n",
       "13        436            31              3    0.009095       0.000910  \n",
       "15        685           128              1    0.002274       0.002274  \n",
       "58        436            24              3    0.009095       0.000910  "
      ]
     },
     "execution_count": 20,
     "metadata": {},
     "output_type": "execute_result"
    }
   ],
   "source": [
    "df_eco[df_eco['Preço'].isna()].head()"
   ]
  },
  {
   "cell_type": "code",
   "execution_count": 21,
   "metadata": {},
   "outputs": [],
   "source": [
    "# Tratamento da coluna 'Preço' para excluir os registros nulos\n",
    "df_eco = df_eco.dropna(subset=['Preço'])"
   ]
  },
  {
   "cell_type": "markdown",
   "metadata": {},
   "source": [
    "#### 2.3.8 Tratamento de 'Material_Freq'\n",
    "- Esse campo representa a frequência das categorias de Material nos dados. Ela tem a mesma porcentagem de dados nulos que Material, o que leva a crer que foi criada enquanto os dados de Material contia nulos. Com isso, eu vou excluir ele agora e refazê-lo na etapa de preparação."
   ]
  },
  {
   "cell_type": "code",
   "execution_count": 22,
   "metadata": {},
   "outputs": [],
   "source": [
    "df_eco.drop(columns='Material_Freq', inplace=True)"
   ]
  },
  {
   "cell_type": "markdown",
   "metadata": {},
   "source": [
    "### 2.4 Tratamento de Duplicados\n",
    "- Com esse tratamento, notamos que 201 registros foram excluídos por estarem duplicados. Como não temos algum dado que necessariamente precisa ser único para ser válido (como um registro de clientes por CPF), esse tratamento será feito em toda base de dados e o Python irá fazer seu critério para duplicidade. "
   ]
  },
  {
   "cell_type": "code",
   "execution_count": 23,
   "metadata": {},
   "outputs": [
    {
     "name": "stdout",
     "output_type": "stream",
     "text": [
      "Quantidade de registros atual: 1964\n"
     ]
    }
   ],
   "source": [
    "print('Quantidade de registros atual:', len(df_eco))"
   ]
  },
  {
   "cell_type": "code",
   "execution_count": 24,
   "metadata": {},
   "outputs": [],
   "source": [
    "df_eco.drop_duplicates(inplace=True)"
   ]
  },
  {
   "cell_type": "code",
   "execution_count": 25,
   "metadata": {},
   "outputs": [
    {
     "name": "stdout",
     "output_type": "stream",
     "text": [
      "Quantidade de registros sem duplicados: 1763\n"
     ]
    }
   ],
   "source": [
    "print('Quantidade de registros sem duplicados:', len(df_eco))"
   ]
  },
  {
   "cell_type": "code",
   "execution_count": 26,
   "metadata": {},
   "outputs": [
    {
     "name": "stdout",
     "output_type": "stream",
     "text": [
      "Quantidade de dados nulos: 201\n"
     ]
    }
   ],
   "source": [
    "print('Quantidade de dados nulos:', 1964 - 1763)"
   ]
  },
  {
   "cell_type": "markdown",
   "metadata": {},
   "source": [
    "### 2.5 Verificando e Salvando os Dados Tratados"
   ]
  },
  {
   "cell_type": "code",
   "execution_count": 27,
   "metadata": {},
   "outputs": [
    {
     "name": "stdout",
     "output_type": "stream",
     "text": [
      "Quantidade de Registros Originais: 2199\n",
      "Quantidade de Registros com Tratamento: 1763\n",
      "Quantidade de Colunas Originais: 24\n",
      "Quantidade de Colunas com Tratamento: 17\n",
      "Nomes das Colunas Usadas:\n",
      "['Título', 'Nota', 'N_Avaliações', 'Desconto', 'Marca', 'Material', 'Gênero', 'Temporada', 'Review1', 'Review2', 'Review3', 'Qtd_Vendidos', 'Preço', 'Marca_Cod', 'Material_Cod', 'Temporada_Cod', 'Marca_Freq']\n",
      "Quantidade de Nulos:\n",
      "Título           0\n",
      "Nota             0\n",
      "N_Avaliações     0\n",
      "Desconto         0\n",
      "Marca            0\n",
      "Material         0\n",
      "Gênero           0\n",
      "Temporada        0\n",
      "Review1          0\n",
      "Review2          0\n",
      "Review3          0\n",
      "Qtd_Vendidos     0\n",
      "Preço            0\n",
      "Marca_Cod        0\n",
      "Material_Cod     0\n",
      "Temporada_Cod    0\n",
      "Marca_Freq       0\n",
      "dtype: int64\n",
      "Quantidade de Duplicados: 0\n"
     ]
    }
   ],
   "source": [
    "print('Quantidade de Registros Originais:', len(df))\n",
    "print('Quantidade de Registros com Tratamento:', len(df_eco))\n",
    "print('Quantidade de Colunas Originais:', df.shape[1])\n",
    "print('Quantidade de Colunas com Tratamento:', df_eco.shape[1])\n",
    "print('Nomes das Colunas Usadas:\\n{}'.format(df_eco.columns.to_list()))\n",
    "print('Quantidade de Nulos:\\n{}'.format(df_eco.isna().sum()))\n",
    "print('Quantidade de Duplicados:', df_eco.duplicated().sum())"
   ]
  },
  {
   "cell_type": "code",
   "execution_count": 28,
   "metadata": {},
   "outputs": [
    {
     "data": {
      "text/html": [
       "<div>\n",
       "<style scoped>\n",
       "    .dataframe tbody tr th:only-of-type {\n",
       "        vertical-align: middle;\n",
       "    }\n",
       "\n",
       "    .dataframe tbody tr th {\n",
       "        vertical-align: top;\n",
       "    }\n",
       "\n",
       "    .dataframe thead th {\n",
       "        text-align: right;\n",
       "    }\n",
       "</style>\n",
       "<table border=\"1\" class=\"dataframe\">\n",
       "  <thead>\n",
       "    <tr style=\"text-align: right;\">\n",
       "      <th></th>\n",
       "      <th>Título</th>\n",
       "      <th>Nota</th>\n",
       "      <th>N_Avaliações</th>\n",
       "      <th>Desconto</th>\n",
       "      <th>Marca</th>\n",
       "      <th>Material</th>\n",
       "      <th>Gênero</th>\n",
       "      <th>Temporada</th>\n",
       "      <th>Review1</th>\n",
       "      <th>Review2</th>\n",
       "      <th>Review3</th>\n",
       "      <th>Qtd_Vendidos</th>\n",
       "      <th>Preço</th>\n",
       "      <th>Marca_Cod</th>\n",
       "      <th>Material_Cod</th>\n",
       "      <th>Temporada_Cod</th>\n",
       "      <th>Marca_Freq</th>\n",
       "    </tr>\n",
       "  </thead>\n",
       "  <tbody>\n",
       "    <tr>\n",
       "      <th>0</th>\n",
       "      <td>Pijama Cirurgico  Scrub Roupa Privativa Hospit...</td>\n",
       "      <td>4.0</td>\n",
       "      <td>273.0</td>\n",
       "      <td>0.0</td>\n",
       "      <td>toronto uniformes profissionais</td>\n",
       "      <td>poliéster</td>\n",
       "      <td>Sem gênero</td>\n",
       "      <td>não definido</td>\n",
       "      <td>Preço justo , bem feito acabamento ok. Única s...</td>\n",
       "      <td>Tamanho bom, costuras de qualidade, porém teci...</td>\n",
       "      <td>Muito bom, só poderia ter os cortes na lateral...</td>\n",
       "      <td>1000</td>\n",
       "      <td>69.90</td>\n",
       "      <td>781</td>\n",
       "      <td>122</td>\n",
       "      <td>1</td>\n",
       "      <td>0.002274</td>\n",
       "    </tr>\n",
       "    <tr>\n",
       "      <th>1</th>\n",
       "      <td>Kit 10 Cuecas Boxer Lupo Cueca Box Algodão Mas...</td>\n",
       "      <td>4.5</td>\n",
       "      <td>3034.0</td>\n",
       "      <td>18.0</td>\n",
       "      <td>lupo</td>\n",
       "      <td>algodão</td>\n",
       "      <td>Masculino</td>\n",
       "      <td>outono/inverno</td>\n",
       "      <td>As cuecas são boas; porém você percebe na cost...</td>\n",
       "      <td>Pelo preço promocional, com ctz tem algum defe...</td>\n",
       "      <td>Serviram muito bem, porém é nítido que o pano ...</td>\n",
       "      <td>10000</td>\n",
       "      <td>232.89</td>\n",
       "      <td>463</td>\n",
       "      <td>25</td>\n",
       "      <td>3</td>\n",
       "      <td>0.042292</td>\n",
       "    </tr>\n",
       "    <tr>\n",
       "      <th>2</th>\n",
       "      <td>Kit Com 10 Cuecas Boxer Algodão Sem Costura Zo...</td>\n",
       "      <td>4.7</td>\n",
       "      <td>5682.0</td>\n",
       "      <td>20.0</td>\n",
       "      <td>zorba</td>\n",
       "      <td>algodão</td>\n",
       "      <td>Masculino</td>\n",
       "      <td>não definido</td>\n",
       "      <td>O tecido é bom e são confortáveis. Só que a nu...</td>\n",
       "      <td>Vendo comentários de outros consumidores vejo ...</td>\n",
       "      <td>Produto não é nem de longe original, tecido gr...</td>\n",
       "      <td>50000</td>\n",
       "      <td>199.90</td>\n",
       "      <td>838</td>\n",
       "      <td>25</td>\n",
       "      <td>1</td>\n",
       "      <td>0.009095</td>\n",
       "    </tr>\n",
       "    <tr>\n",
       "      <th>3</th>\n",
       "      <td>Kit 10 Cuecas Boxer Mash Algodão Cotton Box Or...</td>\n",
       "      <td>4.6</td>\n",
       "      <td>1700.0</td>\n",
       "      <td>22.0</td>\n",
       "      <td>mash</td>\n",
       "      <td>algodão</td>\n",
       "      <td>Masculino</td>\n",
       "      <td>primavera/verão</td>\n",
       "      <td>As cuecas são boas, porém meu marido usa g e p...</td>\n",
       "      <td>E o tamanho certo, mas em baixo dela, fica mui...</td>\n",
       "      <td>Produto não parece.\\nOriginal e veio 2 modelos...</td>\n",
       "      <td>10000</td>\n",
       "      <td>229.39</td>\n",
       "      <td>494</td>\n",
       "      <td>25</td>\n",
       "      <td>7</td>\n",
       "      <td>0.010914</td>\n",
       "    </tr>\n",
       "    <tr>\n",
       "      <th>4</th>\n",
       "      <td>Kit 3 Short Jeans Feminino Cintura Alta Barato...</td>\n",
       "      <td>4.4</td>\n",
       "      <td>507.0</td>\n",
       "      <td>9.0</td>\n",
       "      <td>menina linda</td>\n",
       "      <td>jean</td>\n",
       "      <td>Feminino</td>\n",
       "      <td>primavera/verão</td>\n",
       "      <td>Estou encantada com essas peças!.\\nOs shorts s...</td>\n",
       "      <td>Recomendo, tecido confortável, igual a foto.</td>\n",
       "      <td>Gostei muito dos shorts, material bom, para us...</td>\n",
       "      <td>1000</td>\n",
       "      <td>129.20</td>\n",
       "      <td>509</td>\n",
       "      <td>74</td>\n",
       "      <td>7</td>\n",
       "      <td>0.010005</td>\n",
       "    </tr>\n",
       "  </tbody>\n",
       "</table>\n",
       "</div>"
      ],
      "text/plain": [
       "                                              Título  Nota  N_Avaliações  \\\n",
       "0  Pijama Cirurgico  Scrub Roupa Privativa Hospit...   4.0         273.0   \n",
       "1  Kit 10 Cuecas Boxer Lupo Cueca Box Algodão Mas...   4.5        3034.0   \n",
       "2  Kit Com 10 Cuecas Boxer Algodão Sem Costura Zo...   4.7        5682.0   \n",
       "3  Kit 10 Cuecas Boxer Mash Algodão Cotton Box Or...   4.6        1700.0   \n",
       "4  Kit 3 Short Jeans Feminino Cintura Alta Barato...   4.4         507.0   \n",
       "\n",
       "   Desconto                            Marca   Material      Gênero  \\\n",
       "0       0.0  toronto uniformes profissionais  poliéster  Sem gênero   \n",
       "1      18.0                             lupo    algodão   Masculino   \n",
       "2      20.0                            zorba    algodão   Masculino   \n",
       "3      22.0                             mash    algodão   Masculino   \n",
       "4       9.0                     menina linda       jean    Feminino   \n",
       "\n",
       "         Temporada                                            Review1  \\\n",
       "0     não definido  Preço justo , bem feito acabamento ok. Única s...   \n",
       "1   outono/inverno  As cuecas são boas; porém você percebe na cost...   \n",
       "2     não definido  O tecido é bom e são confortáveis. Só que a nu...   \n",
       "3  primavera/verão  As cuecas são boas, porém meu marido usa g e p...   \n",
       "4  primavera/verão  Estou encantada com essas peças!.\\nOs shorts s...   \n",
       "\n",
       "                                             Review2  \\\n",
       "0  Tamanho bom, costuras de qualidade, porém teci...   \n",
       "1  Pelo preço promocional, com ctz tem algum defe...   \n",
       "2  Vendo comentários de outros consumidores vejo ...   \n",
       "3  E o tamanho certo, mas em baixo dela, fica mui...   \n",
       "4       Recomendo, tecido confortável, igual a foto.   \n",
       "\n",
       "                                             Review3  Qtd_Vendidos   Preço  \\\n",
       "0  Muito bom, só poderia ter os cortes na lateral...          1000   69.90   \n",
       "1  Serviram muito bem, porém é nítido que o pano ...         10000  232.89   \n",
       "2  Produto não é nem de longe original, tecido gr...         50000  199.90   \n",
       "3  Produto não parece.\\nOriginal e veio 2 modelos...         10000  229.39   \n",
       "4  Gostei muito dos shorts, material bom, para us...          1000  129.20   \n",
       "\n",
       "   Marca_Cod  Material_Cod  Temporada_Cod  Marca_Freq  \n",
       "0        781           122              1    0.002274  \n",
       "1        463            25              3    0.042292  \n",
       "2        838            25              1    0.009095  \n",
       "3        494            25              7    0.010914  \n",
       "4        509            74              7    0.010005  "
      ]
     },
     "execution_count": 28,
     "metadata": {},
     "output_type": "execute_result"
    }
   ],
   "source": [
    "df_eco.head()"
   ]
  },
  {
   "cell_type": "code",
   "execution_count": 30,
   "metadata": {},
   "outputs": [],
   "source": [
    "# Salvando dados tratados\n",
    "df_eco.to_csv('ecommerce_tratado.csv', index=False)"
   ]
  }
 ],
 "metadata": {
  "kernelspec": {
   "display_name": "Python 3",
   "language": "python",
   "name": "python3"
  },
  "language_info": {
   "codemirror_mode": {
    "name": "ipython",
    "version": 3
   },
   "file_extension": ".py",
   "mimetype": "text/x-python",
   "name": "python",
   "nbconvert_exporter": "python",
   "pygments_lexer": "ipython3",
   "version": "3.11.4"
  }
 },
 "nbformat": 4,
 "nbformat_minor": 2
}
